{
 "cells": [
  {
   "cell_type": "markdown",
   "metadata": {},
   "source": [
    "This notebook is used to reproduce the results presented in our work (taking the performance of **PaiNN** on the liquid water/ice dataset as an example)"
   ]
  },
  {
   "cell_type": "code",
   "execution_count": 2,
   "metadata": {},
   "outputs": [
    {
     "name": "stdout",
     "output_type": "stream",
     "text": [
      "\n",
      "Testing...\n",
      "100%|█████████████████████████████████████████| 500/500 [00:34<00:00, 14.59it/s]\n",
      "energy mae: tensor(0.1010, device='cuda:0')\n",
      "force mea: tensor(0.0220, device='cuda:0')\n"
     ]
    }
   ],
   "source": [
    "#TAIP: liquid water\n",
    "!python test.py --config config.yaml"
   ]
  },
  {
   "cell_type": "code",
   "execution_count": 3,
   "metadata": {},
   "outputs": [
    {
     "name": "stdout",
     "output_type": "stream",
     "text": [
      "\n",
      "Testing...\n",
      "100%|█████████████████████████████████████████| 500/500 [02:11<00:00,  3.81it/s]\n",
      "energy mae: tensor(0.0810, device='cuda:0')\n",
      "force mea: tensor(0.0180, device='cuda:0')\n"
     ]
    }
   ],
   "source": [
    "#TAIP: ice dataset\n",
    "!python test_ice.py --config config.yaml"
   ]
  },
  {
   "cell_type": "markdown",
   "metadata": {},
   "source": []
  }
 ],
 "metadata": {
  "kernelspec": {
   "display_name": "TAIP",
   "language": "python",
   "name": "python3"
  },
  "language_info": {
   "codemirror_mode": {
    "name": "ipython",
    "version": 3
   },
   "file_extension": ".py",
   "mimetype": "text/x-python",
   "name": "python",
   "nbconvert_exporter": "python",
   "pygments_lexer": "ipython3",
   "version": "3.9.19"
  }
 },
 "nbformat": 4,
 "nbformat_minor": 2
}
