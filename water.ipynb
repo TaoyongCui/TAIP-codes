{
 "cells": [
  {
   "cell_type": "markdown",
   "metadata": {},
   "source": [
    "#**Notebook Introduction**\n",
    "\n",
    "This notebook is used to reproduce the results presented in our work (taking the performance of **PaiNN** on the **liquid water/ice dataset** as an example)"
   ]
  },
  {
   "cell_type": "markdown",
   "metadata": {},
   "source": [
    "**Training**\n",
    "\n",
    "To train the PaiNN model on the liquid water dataset, you can execute the command 'python train_new.py --config config.yaml'. Note that training the model on a single RTX 4090 GPU card will approximately take 2 to 3 days."
   ]
  },
  {
   "cell_type": "code",
   "execution_count": 1,
   "metadata": {},
   "outputs": [],
   "source": [
    "#Training model on the liquid water dataset(using dataset: './processed/newliquid_shifted_ev.pt')\n",
    "#!python train_new.py --config config.yaml "
   ]
  },
  {
   "cell_type": "markdown",
   "metadata": {},
   "source": [
    "**Test the TAIP based PaiNN model on the liquid water dataset**\n"
   ]
  },
  {
   "cell_type": "code",
   "execution_count": 2,
   "metadata": {},
   "outputs": [
    {
     "name": "stdout",
     "output_type": "stream",
     "text": [
      "\n",
      "Testing...\n",
      "100%|█████████████████████████████████████████| 500/500 [02:10<00:00,  3.82it/s]\n",
      "energy mae: tensor(0.1010, device='cuda:0')\n",
      "force mea: tensor(0.0220, device='cuda:0')\n"
     ]
    }
   ],
   "source": [
    "#TAIP: liquid water (using checkpoint：'./checkpoint/water_taip.pt', dataset:'./processed/newliquid_shifted_ev.pt')\n",
    "!python test.py --config config.yaml"
   ]
  },
  {
   "cell_type": "markdown",
   "metadata": {},
   "source": [
    "**Test the baseline PaiNN model on the liquid water dataset.**\n"
   ]
  },
  {
   "cell_type": "code",
   "execution_count": 3,
   "metadata": {},
   "outputs": [
    {
     "name": "stdout",
     "output_type": "stream",
     "text": [
      "\n",
      "Testing...\n",
      "100%|█████████████████████████████████████████| 500/500 [00:34<00:00, 14.45it/s]\n",
      "energy mae: tensor(0.2377, device='cuda:0')\n",
      "energy mae: tensor(0.0368, device='cuda:0')\n"
     ]
    }
   ],
   "source": [
    "#Baseline: liquid water (using checkpoint: './checkpoint/water_base.pt', dataset:'./processed/newliquid_shifted_ev.pt'). \n",
    "# You can comment out the code from lines 190 to 194 to test the baseline model implementation.\n",
    "!python test.py --config config.yaml"
   ]
  },
  {
   "cell_type": "markdown",
   "metadata": {},
   "source": [
    "**Test the TAIP based PaiNN model on the ice dataset**\n"
   ]
  },
  {
   "cell_type": "code",
   "execution_count": 6,
   "metadata": {},
   "outputs": [
    {
     "name": "stdout",
     "output_type": "stream",
     "text": [
      "\n",
      "Testing...\n",
      "100%|█████████████████████████████████████████| 500/500 [02:12<00:00,  3.78it/s]\n",
      "energy mae: tensor(0.0831, device='cuda:0')\n",
      "force mea: tensor(0.0182, device='cuda:0')\n"
     ]
    }
   ],
   "source": [
    "#TAIP: ice dataset (using checkpoint: './checkpoint/water_taip.pt', dataset:'./processed/ice_revised_shifted.pt')\n",
    "!python test.py --config config.yaml"
   ]
  },
  {
   "cell_type": "markdown",
   "metadata": {},
   "source": [
    "**Test the TAIP based PaiNN model on the ice baseset**"
   ]
  },
  {
   "cell_type": "code",
   "execution_count": 8,
   "metadata": {},
   "outputs": [
    {
     "name": "stdout",
     "output_type": "stream",
     "text": [
      "\n",
      "Testing...\n",
      "100%|█████████████████████████████████████████| 500/500 [00:34<00:00, 14.48it/s]\n",
      "energy mae: tensor(0.6149, device='cuda:0')\n",
      "energy mae: tensor(0.0310, device='cuda:0')\n"
     ]
    }
   ],
   "source": [
    "#Baseline: ice dataset(using checkpoint: './checkpoint/water_base.pt', dataset:'./processed/ice_revised_shifted.pt') \n",
    "#You can comment out the code from lines 190 to 194 to test the baseline model implementation.\n",
    "!python test.py --config config.yaml"
   ]
  },
  {
   "cell_type": "code",
   "execution_count": null,
   "metadata": {},
   "outputs": [],
   "source": []
  }
 ],
 "metadata": {
  "kernelspec": {
   "display_name": "TAIP",
   "language": "python",
   "name": "python3"
  },
  "language_info": {
   "codemirror_mode": {
    "name": "ipython",
    "version": 3
   },
   "file_extension": ".py",
   "mimetype": "text/x-python",
   "name": "python",
   "nbconvert_exporter": "python",
   "pygments_lexer": "ipython3",
   "version": "3.9.19"
  }
 },
 "nbformat": 4,
 "nbformat_minor": 2
}
