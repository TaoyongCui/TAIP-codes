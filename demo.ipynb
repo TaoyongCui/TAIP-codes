{
 "cells": [
  {
   "cell_type": "markdown",
   "metadata": {},
   "source": [
    "#**Notebook Introduction**\n",
    "\n",
    "This notebook is used to reproduce the results presented in our work (taking the performance of **PaiNN** on the **liquid water/ice dataset** as an example)"
   ]
  },
  {
   "cell_type": "markdown",
   "metadata": {},
   "source": [
    "**Training**\n",
    "\n",
    "To train the PaiNN model on the liquid water dataset, you can execute the command 'python train_new.py --config config.yaml'. Note that training the model on a single RTX 4090 GPU card will approximately take 2 to 3 days."
   ]
  },
  {
   "cell_type": "code",
   "execution_count": 1,
   "metadata": {},
   "outputs": [],
   "source": [
    "#Training model on the liquid water dataset(using dataset: './processed/newliquid_shifted_ev.pt')\n",
    "#!python train_new.py --config config.yaml "
   ]
  },
  {
   "cell_type": "markdown",
   "metadata": {},
   "source": [
    "**Test the TAIP based PaiNN model on the liquid water dataset**\n"
   ]
  },
  {
   "cell_type": "code",
   "execution_count": 2,
   "metadata": {},
   "outputs": [
    {
     "name": "stdout",
     "output_type": "stream",
     "text": [
      "\n",
      "Testing...\n",
      "100%|█████████████████████████████████████████| 500/500 [02:10<00:00,  3.82it/s]\n",
      "energy mae: tensor(0.1010, device='cuda:0')\n",
      "force mea: tensor(0.0220, device='cuda:0')\n"
     ]
    }
   ],
   "source": [
    "#TAIP: liquid water (using checkpoint：'./checkpoint/water_taip.pt', dataset:'./processed/newliquid_shifted_ev.pt')\n",
    "!python test.py --config config.yaml"
   ]
  },
  {
   "cell_type": "markdown",
   "metadata": {},
   "source": [
    "**Test the baseline PaiNN model on the liquid water dataset.**\n"
   ]
  },
  {
   "cell_type": "code",
   "execution_count": 3,
   "metadata": {},
   "outputs": [
    {
     "name": "stdout",
     "output_type": "stream",
     "text": [
      "\n",
      "Testing...\n",
      "100%|█████████████████████████████████████████| 500/500 [00:34<00:00, 14.45it/s]\n",
      "energy mae: tensor(0.2377, device='cuda:0')\n",
      "energy mae: tensor(0.0368, device='cuda:0')\n"
     ]
    }
   ],
   "source": [
    "#Baseline: liquid water (using checkpoint: './checkpoint/water_base.pt', dataset:'./processed/newliquid_shifted_ev.pt'). \n",
    "# You can comment out the code from lines 190 to 194 to test the baseline model implementation.\n",
    "!python test.py --config config.yaml"
   ]
  },
  {
   "cell_type": "markdown",
   "metadata": {},
   "source": [
    "**Test the TAIP based PaiNN model on the ice dataset**\n"
   ]
  },
  {
   "cell_type": "code",
   "execution_count": 6,
   "metadata": {},
   "outputs": [
    {
     "name": "stdout",
     "output_type": "stream",
     "text": [
      "\n",
      "Testing...\n",
      "100%|█████████████████████████████████████████| 500/500 [02:12<00:00,  3.78it/s]\n",
      "energy mae: tensor(0.0831, device='cuda:0')\n",
      "force mea: tensor(0.0182, device='cuda:0')\n"
     ]
    }
   ],
   "source": [
    "#TAIP: ice dataset (using checkpoint: './checkpoint/water_taip.pt', dataset:'./processed/ice_revised_shifted.pt')\n",
    "!python test.py --config config.yaml"
   ]
  },
  {
   "cell_type": "markdown",
   "metadata": {},
   "source": [
    "**Test the TAIP based PaiNN model on the ice baseset**"
   ]
  },
  {
   "cell_type": "code",
   "execution_count": 8,
   "metadata": {},
   "outputs": [
    {
     "name": "stdout",
     "output_type": "stream",
     "text": [
      "\n",
      "Testing...\n",
      "100%|█████████████████████████████████████████| 500/500 [00:34<00:00, 14.48it/s]\n",
      "energy mae: tensor(0.6149, device='cuda:0')\n",
      "energy mae: tensor(0.0310, device='cuda:0')\n"
     ]
    }
   ],
   "source": [
    "#Baseline: ice dataset(using checkpoint: './checkpoint/water_base.pt', dataset:'./processed/ice_revised_shifted.pt') \n",
    "#You can comment out the code from lines 190 to 194 to test the baseline model implementation.\n",
    "!python test.py --config config.yaml"
   ]
  },
  {
   "cell_type": "markdown",
   "metadata": {},
   "source": [
    "**Molecular dynamic simulation on liquid water**"
   ]
  },
  {
   "cell_type": "code",
   "execution_count": null,
   "metadata": {},
   "outputs": [],
   "source": []
  },
  {
   "cell_type": "code",
   "execution_count": 3,
   "metadata": {},
   "outputs": [
    {
     "name": "stdout",
     "output_type": "stream",
     "text": [
      "^C\n",
      "Traceback (most recent call last):\n",
      "  File \"/home/taoyongcui/TAIP-codes/TAIP_MD_Codes/PaiNN/MD_run.py\", line 15, in <module>\n",
      "    from testtime import MLCalculator_schnet\n",
      "  File \"/home/taoyongcui/TAIP-codes/TAIP_MD_Codes/PaiNN/testtime.py\", line 19, in <module>\n",
      "    from TAIP_test import EquivariantDenoisePred\n",
      "  File \"/home/taoyongcui/TAIP-codes/TAIP_MD_Codes/PaiNN/TAIP_test.py\", line 10, in <module>\n",
      "    from scipy.stats import truncnorm\n",
      "  File \"/home/taoyongcui/miniconda3/envs/TAIP/lib/python3.9/site-packages/scipy/stats/__init__.py\", line 606, in <module>\n",
      "    from ._stats_py import *\n",
      "  File \"/home/taoyongcui/miniconda3/envs/TAIP/lib/python3.9/site-packages/scipy/stats/_stats_py.py\", line 49, in <module>\n",
      "    from . import distributions\n",
      "  File \"/home/taoyongcui/miniconda3/envs/TAIP/lib/python3.9/site-packages/scipy/stats/distributions.py\", line 10, in <module>\n",
      "    from . import _continuous_distns\n",
      "  File \"/home/taoyongcui/miniconda3/envs/TAIP/lib/python3.9/site-packages/scipy/stats/_continuous_distns.py\", line 988, in <module>\n",
      "    betaprime = betaprime_gen(a=0.0, name='betaprime')\n",
      "  File \"/home/taoyongcui/miniconda3/envs/TAIP/lib/python3.9/site-packages/scipy/stats/_distn_infrastructure.py\", line 1806, in __init__\n",
      "    super().__init__(seed)\n",
      "  File \"/home/taoyongcui/miniconda3/envs/TAIP/lib/python3.9/site-packages/scipy/stats/_distn_infrastructure.py\", line 639, in __init__\n",
      "    sig = _getfullargspec(self._stats)\n",
      "  File \"/home/taoyongcui/miniconda3/envs/TAIP/lib/python3.9/site-packages/scipy/_lib/_util.py\", line 398, in getfullargspec_no_self\n",
      "    sig = inspect.signature(func)\n",
      "  File \"/home/taoyongcui/miniconda3/envs/TAIP/lib/python3.9/inspect.py\", line 3113, in signature\n",
      "    return Signature.from_callable(obj, follow_wrapped=follow_wrapped)\n",
      "  File \"/home/taoyongcui/miniconda3/envs/TAIP/lib/python3.9/inspect.py\", line 2862, in from_callable\n",
      "    return _signature_from_callable(obj, sigcls=cls,\n",
      "  File \"/home/taoyongcui/miniconda3/envs/TAIP/lib/python3.9/inspect.py\", line 2269, in _signature_from_callable\n",
      "    return _signature_bound_method(sig)\n",
      "  File \"/home/taoyongcui/miniconda3/envs/TAIP/lib/python3.9/inspect.py\", line 1863, in _signature_bound_method\n",
      "    return sig.replace(parameters=params)\n",
      "  File \"/home/taoyongcui/miniconda3/envs/TAIP/lib/python3.9/inspect.py\", line 2885, in replace\n",
      "    return type(self)(parameters,\n",
      "  File \"/home/taoyongcui/miniconda3/envs/TAIP/lib/python3.9/inspect.py\", line 2791, in __init__\n",
      "    params = OrderedDict()\n",
      "KeyboardInterrupt\n"
     ]
    }
   ],
   "source": [
    "!cd ./TAIP_MD_Codes/PaiNN ; python MD_run.py --checkpoint PaiNN-TAIP.pt --config config.yaml --init_atoms test.xyz --save_dir ./ --temp 300 --steps 1000"
   ]
  },
  {
   "cell_type": "code",
   "execution_count": null,
   "metadata": {},
   "outputs": [],
   "source": []
  }
 ],
 "metadata": {
  "kernelspec": {
   "display_name": "TAIP",
   "language": "python",
   "name": "python3"
  },
  "language_info": {
   "codemirror_mode": {
    "name": "ipython",
    "version": 3
   },
   "file_extension": ".py",
   "mimetype": "text/x-python",
   "name": "python",
   "nbconvert_exporter": "python",
   "pygments_lexer": "ipython3",
   "version": "3.9.19"
  }
 },
 "nbformat": 4,
 "nbformat_minor": 2
}
