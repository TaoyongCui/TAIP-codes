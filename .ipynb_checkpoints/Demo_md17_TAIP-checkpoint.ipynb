{
 "cells": [
  {
   "cell_type": "markdown",
   "id": "0a11fb3a-d287-409d-9417-1220a021bf29",
   "metadata": {},
   "source": [
    "#**Notebook Introduction**\n",
    "\n",
    "This notebook is used to reproduce the results presented in our work (taking the performance of **TAIP based PaiNN  model** on the **Aspirin dataset** as an example)"
   ]
  },
  {
   "cell_type": "markdown",
   "id": "f09745b3-628b-4204-9e65-693803f3f93b",
   "metadata": {},
   "source": [
    "**Training**\n",
    "\n",
    "To train the PaiNN model on the Aspirin dataset, you can execute the following command. Note that training the model on a single RTX 4090 GPU card will approximately take 4 days."
   ]
  },
  {
   "cell_type": "code",
   "execution_count": null,
   "id": "e9b7174a-ea9c-4d7b-aa64-8cb04a9c017d",
   "metadata": {},
   "outputs": [
    {
     "name": "stderr",
     "output_type": "stream",
     "text": [
      "/home/bingxing2/ailab/cuitaoyong/.conda/envs/torch/lib/python3.9/site-packages/tqdm/auto.py:22: TqdmWarning: IProgress not found. Please update jupyter and ipywidgets. See https://ipywidgets.readthedocs.io/en/stable/user_install.html\n",
      "  from .autonotebook import tqdm as notebook_tqdm\n"
     ]
    },
    {
     "name": "stdout",
     "output_type": "stream",
     "text": [
      "\n",
      "=====Epoch 1\n",
      "\n",
      "Training...\n"
     ]
    },
    {
     "name": "stderr",
     "output_type": "stream",
     "text": [
      "/home/bingxing2/ailab/cuitaoyong/.conda/envs/torch/lib/python3.9/site-packages/torch_geometric/data/in_memory_dataset.py:300: UserWarning: It is not recommended to directly access the internal storage format `data` of an 'InMemoryDataset'. If you are absolutely certain what you are doing, access the internal storage via `InMemoryDataset._data` instead to suppress this warning. Alternatively, you can access stacked individual attributes of every graph via `dataset.{attr_name}`.\n",
      "  warnings.warn(msg)\n",
      "  1%|          | 6/500 [00:03<04:29,  1.83it/s]"
     ]
    }
   ],
   "source": [
    "run train_md17_TAIP.py --config config_md17.yaml"
   ]
  },
  {
   "cell_type": "markdown",
   "id": "a56d1cb6-83d7-4a38-b823-baec6bc80373",
   "metadata": {},
   "source": [
    "**Test the TAIP based PaiNN model on the Aspirin test dataset.**"
   ]
  },
  {
   "cell_type": "code",
   "execution_count": 1,
   "id": "23e13785-d66d-4dd5-b750-ce97dba6d2f2",
   "metadata": {},
   "outputs": [
    {
     "name": "stderr",
     "output_type": "stream",
     "text": [
      "/home/bingxing2/ailab/cuitaoyong/.conda/envs/torch/lib/python3.9/site-packages/tqdm/auto.py:22: TqdmWarning: IProgress not found. Please update jupyter and ipywidgets. See https://ipywidgets.readthedocs.io/en/stable/user_install.html\n",
      "  from .autonotebook import tqdm as notebook_tqdm\n"
     ]
    },
    {
     "name": "stdout",
     "output_type": "stream",
     "text": [
      "\n",
      "Testing...\n"
     ]
    },
    {
     "name": "stderr",
     "output_type": "stream",
     "text": [
      "/home/bingxing2/ailab/cuitaoyong/.conda/envs/torch/lib/python3.9/site-packages/torch_geometric/data/in_memory_dataset.py:300: UserWarning: It is not recommended to directly access the internal storage format `data` of an 'InMemoryDataset'. If you are absolutely certain what you are doing, access the internal storage via `InMemoryDataset._data` instead to suppress this warning. Alternatively, you can access stacked individual attributes of every graph via `dataset.{attr_name}`.\n",
      "  warnings.warn(msg)\n",
      "100%|██████████| 1000/1000 [09:15<00:00,  1.80it/s]"
     ]
    },
    {
     "name": "stdout",
     "output_type": "stream",
     "text": [
      "energy mea: tensor(0.1758, device='cuda:1')\n",
      "force mea: tensor(0.3461, device='cuda:1')\n"
     ]
    },
    {
     "name": "stderr",
     "output_type": "stream",
     "text": [
      "\n"
     ]
    }
   ],
   "source": [
    "run test_md17_TAIP.py --config config_md17.yaml "
   ]
  },
  {
   "cell_type": "code",
   "execution_count": null,
   "id": "2849cfe6-bab2-4251-b2db-535c2c27df2c",
   "metadata": {},
   "outputs": [],
   "source": []
  }
 ],
 "metadata": {
  "kernelspec": {
   "display_name": "torch",
   "language": "python",
   "name": "torch"
  },
  "language_info": {
   "codemirror_mode": {
    "name": "ipython",
    "version": 3
   },
   "file_extension": ".py",
   "mimetype": "text/x-python",
   "name": "python",
   "nbconvert_exporter": "python",
   "pygments_lexer": "ipython3",
   "version": "3.9.19"
  }
 },
 "nbformat": 4,
 "nbformat_minor": 5
}
